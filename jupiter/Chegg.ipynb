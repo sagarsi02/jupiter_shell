{
 "cells": [
  {
   "cell_type": "code",
   "execution_count": 135,
   "id": "ff62ee24",
   "metadata": {},
   "outputs": [],
   "source": [
    "import os\n",
    "import csv\n",
    "import json\n",
    "import pandas as pd"
   ]
  },
  {
   "cell_type": "code",
   "execution_count": 136,
   "id": "f7d3ee51",
   "metadata": {},
   "outputs": [],
   "source": [
    "def read_csv():\n",
    "    with open(\"chegg.csv\", encoding='utf-8') as csvf:\n",
    "        csvReader = csv.DictReader(csvf)\n",
    "        return list(csvReader)"
   ]
  },
  {
   "cell_type": "code",
   "execution_count": 137,
   "id": "a1b3d7b0",
   "metadata": {},
   "outputs": [],
   "source": [
    "dd = read_csv()"
   ]
  },
  {
   "cell_type": "code",
   "execution_count": 138,
   "id": "cc6e9783",
   "metadata": {},
   "outputs": [],
   "source": [
    "new_dict = {\"name\":[],\"age\":[],\"gender\":[]};"
   ]
  },
  {
   "cell_type": "code",
   "execution_count": 139,
   "id": "83a3a323",
   "metadata": {
    "scrolled": true
   },
   "outputs": [],
   "source": [
    "def correction(dd):\n",
    "    for i in dd:\n",
    "        # Name Capitalize\n",
    "        name = i['name'].capitalize()\n",
    "        new_dict['name'].append(name)\n",
    "        # Round Value\n",
    "        round_val = round(float(i['age']))\n",
    "        # Postive toNegative\n",
    "        age = abs(round_val)\n",
    "        new_dict['age'].append(age)\n",
    "        # Age is Capitalize\n",
    "        gender = i['gender'].capitalize()\n",
    "        new_dict['gender'].append(gender)"
   ]
  },
  {
   "cell_type": "code",
   "execution_count": 141,
   "id": "cd7ae8e9",
   "metadata": {},
   "outputs": [],
   "source": [
    "def data_frame(new_dict):\n",
    "    correction(dd)\n",
    "    df = pd.DataFrame(new_dict)\n",
    "    return df"
   ]
  },
  {
   "cell_type": "code",
   "execution_count": 142,
   "id": "2b9d971d",
   "metadata": {},
   "outputs": [
    {
     "data": {
      "text/html": [
       "<div>\n",
       "<style scoped>\n",
       "    .dataframe tbody tr th:only-of-type {\n",
       "        vertical-align: middle;\n",
       "    }\n",
       "\n",
       "    .dataframe tbody tr th {\n",
       "        vertical-align: top;\n",
       "    }\n",
       "\n",
       "    .dataframe thead th {\n",
       "        text-align: right;\n",
       "    }\n",
       "</style>\n",
       "<table border=\"1\" class=\"dataframe\">\n",
       "  <thead>\n",
       "    <tr style=\"text-align: right;\">\n",
       "      <th></th>\n",
       "      <th>name</th>\n",
       "      <th>age</th>\n",
       "      <th>gender</th>\n",
       "    </tr>\n",
       "  </thead>\n",
       "  <tbody>\n",
       "    <tr>\n",
       "      <th>0</th>\n",
       "      <td>Rita</td>\n",
       "      <td>28</td>\n",
       "      <td>Female</td>\n",
       "    </tr>\n",
       "    <tr>\n",
       "      <th>1</th>\n",
       "      <td>Florance</td>\n",
       "      <td>26</td>\n",
       "      <td>Male</td>\n",
       "    </tr>\n",
       "    <tr>\n",
       "      <th>2</th>\n",
       "      <td>Irma</td>\n",
       "      <td>38</td>\n",
       "      <td>Female</td>\n",
       "    </tr>\n",
       "  </tbody>\n",
       "</table>\n",
       "</div>"
      ],
      "text/plain": [
       "       name  age  gender\n",
       "0      Rita   28  Female\n",
       "1  Florance   26    Male\n",
       "2      Irma   38  Female"
      ]
     },
     "execution_count": 142,
     "metadata": {},
     "output_type": "execute_result"
    }
   ],
   "source": [
    "data_frame(new_dict)"
   ]
  }
 ],
 "metadata": {
  "kernelspec": {
   "display_name": "Python 3 (ipykernel)",
   "language": "python",
   "name": "python3"
  },
  "language_info": {
   "codemirror_mode": {
    "name": "ipython",
    "version": 3
   },
   "file_extension": ".py",
   "mimetype": "text/x-python",
   "name": "python",
   "nbconvert_exporter": "python",
   "pygments_lexer": "ipython3",
   "version": "3.10.6"
  }
 },
 "nbformat": 4,
 "nbformat_minor": 5
}
